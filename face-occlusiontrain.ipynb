{
 "cells": [
  {
   "cell_type": "code",
   "execution_count": 1,
   "id": "54180e94",
   "metadata": {
    "_cell_guid": "b1076dfc-b9ad-4769-8c92-a6c4dae69d19",
    "_uuid": "8f2839f25d086af736a60e9eeb907d3b93b6e0e5",
    "execution": {
     "iopub.execute_input": "2025-05-18T07:33:43.673806Z",
     "iopub.status.busy": "2025-05-18T07:33:43.673615Z",
     "iopub.status.idle": "2025-05-18T07:34:09.528828Z",
     "shell.execute_reply": "2025-05-18T07:34:09.527821Z"
    },
    "papermill": {
     "duration": 25.859814,
     "end_time": "2025-05-18T07:34:09.530648",
     "exception": false,
     "start_time": "2025-05-18T07:33:43.670834",
     "status": "completed"
    },
    "tags": []
   },
   "outputs": [
    {
     "name": "stderr",
     "output_type": "stream",
     "text": [
      "2025-05-18 07:33:47.576342: E external/local_xla/xla/stream_executor/cuda/cuda_fft.cc:477] Unable to register cuFFT factory: Attempting to register factory for plugin cuFFT when one has already been registered\n",
      "WARNING: All log messages before absl::InitializeLog() is called are written to STDERR\n",
      "E0000 00:00:1747553628.073512      19 cuda_dnn.cc:8310] Unable to register cuDNN factory: Attempting to register factory for plugin cuDNN when one has already been registered\n",
      "E0000 00:00:1747553628.233605      19 cuda_blas.cc:1418] Unable to register cuBLAS factory: Attempting to register factory for plugin cuBLAS when one has already been registered\n"
     ]
    },
    {
     "name": "stdout",
     "output_type": "stream",
     "text": [
      "Running on GPU: /device:GPU:0\n"
     ]
    },
    {
     "name": "stderr",
     "output_type": "stream",
     "text": [
      "I0000 00:00:1747553649.522747      19 gpu_device.cc:2022] Created device /device:GPU:0 with 13942 MB memory:  -> device: 0, name: Tesla T4, pci bus id: 0000:00:04.0, compute capability: 7.5\n",
      "I0000 00:00:1747553649.523974      19 gpu_device.cc:2022] Created device /device:GPU:1 with 13942 MB memory:  -> device: 1, name: Tesla T4, pci bus id: 0000:00:05.0, compute capability: 7.5\n"
     ]
    }
   ],
   "source": [
    "import tensorflow as tf\n",
    "device_name = tf.test.gpu_device_name()\n",
    "print(f\"Running on GPU: {device_name}\" if device_name else \"⚠️ Not using GPU\")"
   ]
  },
  {
   "cell_type": "code",
   "execution_count": 2,
   "id": "c43696c7",
   "metadata": {
    "execution": {
     "iopub.execute_input": "2025-05-18T07:34:09.535450Z",
     "iopub.status.busy": "2025-05-18T07:34:09.534995Z",
     "iopub.status.idle": "2025-05-18T07:36:33.990064Z",
     "shell.execute_reply": "2025-05-18T07:36:33.989290Z"
    },
    "papermill": {
     "duration": 144.458524,
     "end_time": "2025-05-18T07:36:33.991222",
     "exception": false,
     "start_time": "2025-05-18T07:34:09.532698",
     "status": "completed"
    },
    "tags": []
   },
   "outputs": [
    {
     "name": "stdout",
     "output_type": "stream",
     "text": [
      "Found 197590 files belonging to 14114 classes.\n",
      "Using 158072 files for training.\n"
     ]
    },
    {
     "name": "stderr",
     "output_type": "stream",
     "text": [
      "I0000 00:00:1747553721.934879      19 gpu_device.cc:2022] Created device /job:localhost/replica:0/task:0/device:GPU:0 with 13942 MB memory:  -> device: 0, name: Tesla T4, pci bus id: 0000:00:04.0, compute capability: 7.5\n",
      "I0000 00:00:1747553721.935088      19 gpu_device.cc:2022] Created device /job:localhost/replica:0/task:0/device:GPU:1 with 13942 MB memory:  -> device: 1, name: Tesla T4, pci bus id: 0000:00:05.0, compute capability: 7.5\n"
     ]
    },
    {
     "name": "stdout",
     "output_type": "stream",
     "text": [
      "Found 197590 files belonging to 14114 classes.\n",
      "Using 39518 files for validation.\n",
      "✅ Loaded 14114 classes\n",
      "✅ Loaded 14114 classes\n"
     ]
    }
   ],
   "source": [
    "from tensorflow.keras.utils import image_dataset_from_directory\n",
    "\n",
    "TRAIN_PATH = \"/kaggle/input/face-occlusion/dataset_split/train\"\n",
    "\n",
    "train_ds = image_dataset_from_directory(\n",
    "    TRAIN_PATH,\n",
    "    validation_split=0.2,\n",
    "    subset=\"training\",\n",
    "    seed=123,\n",
    "    image_size=(240, 240),\n",
    "    batch_size=32,\n",
    "    label_mode='categorical'\n",
    ")\n",
    "\n",
    "val_ds = image_dataset_from_directory(\n",
    "    TRAIN_PATH,\n",
    "    validation_split=0.2,\n",
    "    subset=\"validation\",\n",
    "    seed=123,\n",
    "    image_size=(240, 240),\n",
    "    batch_size=32,\n",
    "    label_mode='categorical'\n",
    ")\n",
    "\n",
    "class_names = train_ds.class_names\n",
    "num_classes = len(class_names)\n",
    "print(f\"✅ Loaded {num_classes} classes\")\n",
    "\n",
    "class_names = val_ds.class_names\n",
    "num_classes = len(class_names)\n",
    "print(f\"✅ Loaded {num_classes} classes\")"
   ]
  },
  {
   "cell_type": "code",
   "execution_count": 3,
   "id": "771c144e",
   "metadata": {
    "execution": {
     "iopub.execute_input": "2025-05-18T07:36:33.996661Z",
     "iopub.status.busy": "2025-05-18T07:36:33.996145Z",
     "iopub.status.idle": "2025-05-18T07:36:36.740804Z",
     "shell.execute_reply": "2025-05-18T07:36:36.739793Z"
    },
    "papermill": {
     "duration": 2.748659,
     "end_time": "2025-05-18T07:36:36.742116",
     "exception": false,
     "start_time": "2025-05-18T07:36:33.993457",
     "status": "completed"
    },
    "tags": []
   },
   "outputs": [
    {
     "name": "stdout",
     "output_type": "stream",
     "text": [
      "Downloading data from https://storage.googleapis.com/keras-applications/efficientnetb1_notop.h5\n",
      "\u001b[1m27018416/27018416\u001b[0m \u001b[32m━━━━━━━━━━━━━━━━━━━━\u001b[0m\u001b[37m\u001b[0m \u001b[1m0s\u001b[0m 0us/step\n"
     ]
    },
    {
     "data": {
      "text/html": [
       "<pre style=\"white-space:pre;overflow-x:auto;line-height:normal;font-family:Menlo,'DejaVu Sans Mono',consolas,'Courier New',monospace\"><span style=\"font-weight: bold\">Model: \"sequential\"</span>\n",
       "</pre>\n"
      ],
      "text/plain": [
       "\u001b[1mModel: \"sequential\"\u001b[0m\n"
      ]
     },
     "metadata": {},
     "output_type": "display_data"
    },
    {
     "data": {
      "text/html": [
       "<pre style=\"white-space:pre;overflow-x:auto;line-height:normal;font-family:Menlo,'DejaVu Sans Mono',consolas,'Courier New',monospace\">┏━━━━━━━━━━━━━━━━━━━━━━━━━━━━━━━━━━━━━━┳━━━━━━━━━━━━━━━━━━━━━━━━━━━━━┳━━━━━━━━━━━━━━━━━┓\n",
       "┃<span style=\"font-weight: bold\"> Layer (type)                         </span>┃<span style=\"font-weight: bold\"> Output Shape                </span>┃<span style=\"font-weight: bold\">         Param # </span>┃\n",
       "┡━━━━━━━━━━━━━━━━━━━━━━━━━━━━━━━━━━━━━━╇━━━━━━━━━━━━━━━━━━━━━━━━━━━━━╇━━━━━━━━━━━━━━━━━┩\n",
       "│ efficientnetb1 (<span style=\"color: #0087ff; text-decoration-color: #0087ff\">Functional</span>)          │ (<span style=\"color: #00d7ff; text-decoration-color: #00d7ff\">None</span>, <span style=\"color: #00af00; text-decoration-color: #00af00\">8</span>, <span style=\"color: #00af00; text-decoration-color: #00af00\">8</span>, <span style=\"color: #00af00; text-decoration-color: #00af00\">1280</span>)          │       <span style=\"color: #00af00; text-decoration-color: #00af00\">6,575,239</span> │\n",
       "├──────────────────────────────────────┼─────────────────────────────┼─────────────────┤\n",
       "│ global_average_pooling2d             │ (<span style=\"color: #00d7ff; text-decoration-color: #00d7ff\">None</span>, <span style=\"color: #00af00; text-decoration-color: #00af00\">1280</span>)                │               <span style=\"color: #00af00; text-decoration-color: #00af00\">0</span> │\n",
       "│ (<span style=\"color: #0087ff; text-decoration-color: #0087ff\">GlobalAveragePooling2D</span>)             │                             │                 │\n",
       "├──────────────────────────────────────┼─────────────────────────────┼─────────────────┤\n",
       "│ dense (<span style=\"color: #0087ff; text-decoration-color: #0087ff\">Dense</span>)                        │ (<span style=\"color: #00d7ff; text-decoration-color: #00d7ff\">None</span>, <span style=\"color: #00af00; text-decoration-color: #00af00\">256</span>)                 │         <span style=\"color: #00af00; text-decoration-color: #00af00\">327,936</span> │\n",
       "├──────────────────────────────────────┼─────────────────────────────┼─────────────────┤\n",
       "│ dropout (<span style=\"color: #0087ff; text-decoration-color: #0087ff\">Dropout</span>)                    │ (<span style=\"color: #00d7ff; text-decoration-color: #00d7ff\">None</span>, <span style=\"color: #00af00; text-decoration-color: #00af00\">256</span>)                 │               <span style=\"color: #00af00; text-decoration-color: #00af00\">0</span> │\n",
       "├──────────────────────────────────────┼─────────────────────────────┼─────────────────┤\n",
       "│ dense_1 (<span style=\"color: #0087ff; text-decoration-color: #0087ff\">Dense</span>)                      │ (<span style=\"color: #00d7ff; text-decoration-color: #00d7ff\">None</span>, <span style=\"color: #00af00; text-decoration-color: #00af00\">14114</span>)               │       <span style=\"color: #00af00; text-decoration-color: #00af00\">3,627,298</span> │\n",
       "└──────────────────────────────────────┴─────────────────────────────┴─────────────────┘\n",
       "</pre>\n"
      ],
      "text/plain": [
       "┏━━━━━━━━━━━━━━━━━━━━━━━━━━━━━━━━━━━━━━┳━━━━━━━━━━━━━━━━━━━━━━━━━━━━━┳━━━━━━━━━━━━━━━━━┓\n",
       "┃\u001b[1m \u001b[0m\u001b[1mLayer (type)                        \u001b[0m\u001b[1m \u001b[0m┃\u001b[1m \u001b[0m\u001b[1mOutput Shape               \u001b[0m\u001b[1m \u001b[0m┃\u001b[1m \u001b[0m\u001b[1m        Param #\u001b[0m\u001b[1m \u001b[0m┃\n",
       "┡━━━━━━━━━━━━━━━━━━━━━━━━━━━━━━━━━━━━━━╇━━━━━━━━━━━━━━━━━━━━━━━━━━━━━╇━━━━━━━━━━━━━━━━━┩\n",
       "│ efficientnetb1 (\u001b[38;5;33mFunctional\u001b[0m)          │ (\u001b[38;5;45mNone\u001b[0m, \u001b[38;5;34m8\u001b[0m, \u001b[38;5;34m8\u001b[0m, \u001b[38;5;34m1280\u001b[0m)          │       \u001b[38;5;34m6,575,239\u001b[0m │\n",
       "├──────────────────────────────────────┼─────────────────────────────┼─────────────────┤\n",
       "│ global_average_pooling2d             │ (\u001b[38;5;45mNone\u001b[0m, \u001b[38;5;34m1280\u001b[0m)                │               \u001b[38;5;34m0\u001b[0m │\n",
       "│ (\u001b[38;5;33mGlobalAveragePooling2D\u001b[0m)             │                             │                 │\n",
       "├──────────────────────────────────────┼─────────────────────────────┼─────────────────┤\n",
       "│ dense (\u001b[38;5;33mDense\u001b[0m)                        │ (\u001b[38;5;45mNone\u001b[0m, \u001b[38;5;34m256\u001b[0m)                 │         \u001b[38;5;34m327,936\u001b[0m │\n",
       "├──────────────────────────────────────┼─────────────────────────────┼─────────────────┤\n",
       "│ dropout (\u001b[38;5;33mDropout\u001b[0m)                    │ (\u001b[38;5;45mNone\u001b[0m, \u001b[38;5;34m256\u001b[0m)                 │               \u001b[38;5;34m0\u001b[0m │\n",
       "├──────────────────────────────────────┼─────────────────────────────┼─────────────────┤\n",
       "│ dense_1 (\u001b[38;5;33mDense\u001b[0m)                      │ (\u001b[38;5;45mNone\u001b[0m, \u001b[38;5;34m14114\u001b[0m)               │       \u001b[38;5;34m3,627,298\u001b[0m │\n",
       "└──────────────────────────────────────┴─────────────────────────────┴─────────────────┘\n"
      ]
     },
     "metadata": {},
     "output_type": "display_data"
    },
    {
     "data": {
      "text/html": [
       "<pre style=\"white-space:pre;overflow-x:auto;line-height:normal;font-family:Menlo,'DejaVu Sans Mono',consolas,'Courier New',monospace\"><span style=\"font-weight: bold\"> Total params: </span><span style=\"color: #00af00; text-decoration-color: #00af00\">10,530,473</span> (40.17 MB)\n",
       "</pre>\n"
      ],
      "text/plain": [
       "\u001b[1m Total params: \u001b[0m\u001b[38;5;34m10,530,473\u001b[0m (40.17 MB)\n"
      ]
     },
     "metadata": {},
     "output_type": "display_data"
    },
    {
     "data": {
      "text/html": [
       "<pre style=\"white-space:pre;overflow-x:auto;line-height:normal;font-family:Menlo,'DejaVu Sans Mono',consolas,'Courier New',monospace\"><span style=\"font-weight: bold\"> Trainable params: </span><span style=\"color: #00af00; text-decoration-color: #00af00\">3,955,234</span> (15.09 MB)\n",
       "</pre>\n"
      ],
      "text/plain": [
       "\u001b[1m Trainable params: \u001b[0m\u001b[38;5;34m3,955,234\u001b[0m (15.09 MB)\n"
      ]
     },
     "metadata": {},
     "output_type": "display_data"
    },
    {
     "data": {
      "text/html": [
       "<pre style=\"white-space:pre;overflow-x:auto;line-height:normal;font-family:Menlo,'DejaVu Sans Mono',consolas,'Courier New',monospace\"><span style=\"font-weight: bold\"> Non-trainable params: </span><span style=\"color: #00af00; text-decoration-color: #00af00\">6,575,239</span> (25.08 MB)\n",
       "</pre>\n"
      ],
      "text/plain": [
       "\u001b[1m Non-trainable params: \u001b[0m\u001b[38;5;34m6,575,239\u001b[0m (25.08 MB)\n"
      ]
     },
     "metadata": {},
     "output_type": "display_data"
    }
   ],
   "source": [
    "# Build EfficientNetB1 Model\n",
    "from tensorflow.keras.applications import EfficientNetB1\n",
    "from tensorflow.keras import layers, models\n",
    "from tensorflow.keras.callbacks import EarlyStopping\n",
    "\n",
    "base_model = EfficientNetB1(include_top=False, weights='imagenet', input_shape=(240, 240, 3))\n",
    "\n",
    "model = models.Sequential([\n",
    "    base_model,\n",
    "    layers.GlobalAveragePooling2D(),\n",
    "    layers.Dense(256, activation='relu'),\n",
    "    layers.Dropout(0.3),\n",
    "    layers.Dense(num_classes, activation='softmax')\n",
    "])\n",
    "\n",
    "base_model.trainable = False\n",
    "model.compile(optimizer='adam', loss='categorical_crossentropy', metrics=['accuracy'])\n",
    "model.summary()\n",
    "\n",
    "# EarlyStopping Callback\n",
    "early_stopping = EarlyStopping(\n",
    "    monitor='val_loss',  \n",
    "    patience=3,  \n",
    "    restore_best_weights=True,  \n",
    "    verbose=1\n",
    ")"
   ]
  },
  {
   "cell_type": "code",
   "execution_count": 4,
   "id": "ac7de041",
   "metadata": {
    "execution": {
     "iopub.execute_input": "2025-05-18T07:36:36.748635Z",
     "iopub.status.busy": "2025-05-18T07:36:36.748410Z",
     "iopub.status.idle": "2025-05-18T09:24:25.942656Z",
     "shell.execute_reply": "2025-05-18T09:24:25.941934Z"
    },
    "papermill": {
     "duration": 6473.337983,
     "end_time": "2025-05-18T09:24:30.083088",
     "exception": false,
     "start_time": "2025-05-18T07:36:36.745105",
     "status": "completed"
    },
    "tags": []
   },
   "outputs": [
    {
     "name": "stdout",
     "output_type": "stream",
     "text": [
      "Epoch 1/20\n"
     ]
    },
    {
     "name": "stderr",
     "output_type": "stream",
     "text": [
      "WARNING: All log messages before absl::InitializeLog() is called are written to STDERR\n",
      "I0000 00:00:1747553818.638077      66 service.cc:148] XLA service 0x793930019520 initialized for platform CUDA (this does not guarantee that XLA will be used). Devices:\n",
      "I0000 00:00:1747553818.639735      66 service.cc:156]   StreamExecutor device (0): Tesla T4, Compute Capability 7.5\n",
      "I0000 00:00:1747553818.639759      66 service.cc:156]   StreamExecutor device (1): Tesla T4, Compute Capability 7.5\n",
      "I0000 00:00:1747553821.251342      66 cuda_dnn.cc:529] Loaded cuDNN version 90300\n"
     ]
    },
    {
     "name": "stdout",
     "output_type": "stream",
     "text": [
      "\u001b[1m   2/4940\u001b[0m \u001b[37m━━━━━━━━━━━━━━━━━━━━\u001b[0m \u001b[1m6:09\u001b[0m 75ms/step - accuracy: 0.0000e+00 - loss: 9.5549   "
     ]
    },
    {
     "name": "stderr",
     "output_type": "stream",
     "text": [
      "I0000 00:00:1747553836.625724      66 device_compiler.h:188] Compiled cluster using XLA!  This line is logged at most once for the lifetime of the process.\n"
     ]
    },
    {
     "name": "stdout",
     "output_type": "stream",
     "text": [
      "\u001b[1m4940/4940\u001b[0m \u001b[32m━━━━━━━━━━━━━━━━━━━━\u001b[0m\u001b[37m\u001b[0m \u001b[1m485s\u001b[0m 90ms/step - accuracy: 0.0192 - loss: 8.6993 - val_accuracy: 0.5241 - val_loss: 2.5147\n",
      "Epoch 2/20\n",
      "\u001b[1m4940/4940\u001b[0m \u001b[32m━━━━━━━━━━━━━━━━━━━━\u001b[0m\u001b[37m\u001b[0m \u001b[1m333s\u001b[0m 67ms/step - accuracy: 0.4412 - loss: 2.7312 - val_accuracy: 0.8907 - val_loss: 0.4904\n",
      "Epoch 3/20\n",
      "\u001b[1m4940/4940\u001b[0m \u001b[32m━━━━━━━━━━━━━━━━━━━━\u001b[0m\u001b[37m\u001b[0m \u001b[1m333s\u001b[0m 67ms/step - accuracy: 0.6787 - loss: 1.3486 - val_accuracy: 0.9600 - val_loss: 0.1677\n",
      "Epoch 4/20\n",
      "\u001b[1m4940/4940\u001b[0m \u001b[32m━━━━━━━━━━━━━━━━━━━━\u001b[0m\u001b[37m\u001b[0m \u001b[1m333s\u001b[0m 67ms/step - accuracy: 0.7936 - loss: 0.8214 - val_accuracy: 0.9792 - val_loss: 0.0761\n",
      "Epoch 5/20\n",
      "\u001b[1m4940/4940\u001b[0m \u001b[32m━━━━━━━━━━━━━━━━━━━━\u001b[0m\u001b[37m\u001b[0m \u001b[1m332s\u001b[0m 67ms/step - accuracy: 0.8528 - loss: 0.5675 - val_accuracy: 0.9886 - val_loss: 0.0428\n",
      "Epoch 6/20\n",
      "\u001b[1m4940/4940\u001b[0m \u001b[32m━━━━━━━━━━━━━━━━━━━━\u001b[0m\u001b[37m\u001b[0m \u001b[1m332s\u001b[0m 67ms/step - accuracy: 0.8877 - loss: 0.4321 - val_accuracy: 0.9924 - val_loss: 0.0319\n",
      "Epoch 7/20\n",
      "\u001b[1m4940/4940\u001b[0m \u001b[32m━━━━━━━━━━━━━━━━━━━━\u001b[0m\u001b[37m\u001b[0m \u001b[1m332s\u001b[0m 67ms/step - accuracy: 0.9084 - loss: 0.3528 - val_accuracy: 0.9940 - val_loss: 0.0257\n",
      "Epoch 8/20\n",
      "\u001b[1m4940/4940\u001b[0m \u001b[32m━━━━━━━━━━━━━━━━━━━━\u001b[0m\u001b[37m\u001b[0m \u001b[1m332s\u001b[0m 67ms/step - accuracy: 0.9237 - loss: 0.2986 - val_accuracy: 0.9945 - val_loss: 0.0205\n",
      "Epoch 9/20\n",
      "\u001b[1m4940/4940\u001b[0m \u001b[32m━━━━━━━━━━━━━━━━━━━━\u001b[0m\u001b[37m\u001b[0m \u001b[1m333s\u001b[0m 67ms/step - accuracy: 0.9336 - loss: 0.2623 - val_accuracy: 0.9948 - val_loss: 0.0210\n",
      "Epoch 10/20\n",
      "\u001b[1m4940/4940\u001b[0m \u001b[32m━━━━━━━━━━━━━━━━━━━━\u001b[0m\u001b[37m\u001b[0m \u001b[1m333s\u001b[0m 67ms/step - accuracy: 0.9423 - loss: 0.2341 - val_accuracy: 0.9955 - val_loss: 0.0185\n",
      "Epoch 11/20\n",
      "\u001b[1m4940/4940\u001b[0m \u001b[32m━━━━━━━━━━━━━━━━━━━━\u001b[0m\u001b[37m\u001b[0m \u001b[1m333s\u001b[0m 67ms/step - accuracy: 0.9480 - loss: 0.2151 - val_accuracy: 0.9959 - val_loss: 0.0184\n",
      "Epoch 12/20\n",
      "\u001b[1m4940/4940\u001b[0m \u001b[32m━━━━━━━━━━━━━━━━━━━━\u001b[0m\u001b[37m\u001b[0m \u001b[1m332s\u001b[0m 67ms/step - accuracy: 0.9527 - loss: 0.2003 - val_accuracy: 0.9957 - val_loss: 0.0190\n",
      "Epoch 13/20\n",
      "\u001b[1m4940/4940\u001b[0m \u001b[32m━━━━━━━━━━━━━━━━━━━━\u001b[0m\u001b[37m\u001b[0m \u001b[1m332s\u001b[0m 67ms/step - accuracy: 0.9566 - loss: 0.1856 - val_accuracy: 0.9956 - val_loss: 0.0192\n",
      "Epoch 14/20\n",
      "\u001b[1m4940/4940\u001b[0m \u001b[32m━━━━━━━━━━━━━━━━━━━━\u001b[0m\u001b[37m\u001b[0m \u001b[1m332s\u001b[0m 67ms/step - accuracy: 0.9609 - loss: 0.1721 - val_accuracy: 0.9964 - val_loss: 0.0177\n",
      "Epoch 15/20\n",
      "\u001b[1m4940/4940\u001b[0m \u001b[32m━━━━━━━━━━━━━━━━━━━━\u001b[0m\u001b[37m\u001b[0m \u001b[1m332s\u001b[0m 67ms/step - accuracy: 0.9631 - loss: 0.1665 - val_accuracy: 0.9965 - val_loss: 0.0178\n",
      "Epoch 16/20\n",
      "\u001b[1m4940/4940\u001b[0m \u001b[32m━━━━━━━━━━━━━━━━━━━━\u001b[0m\u001b[37m\u001b[0m \u001b[1m332s\u001b[0m 67ms/step - accuracy: 0.9643 - loss: 0.1608 - val_accuracy: 0.9965 - val_loss: 0.0151\n",
      "Epoch 17/20\n",
      "\u001b[1m4940/4940\u001b[0m \u001b[32m━━━━━━━━━━━━━━━━━━━━\u001b[0m\u001b[37m\u001b[0m \u001b[1m332s\u001b[0m 67ms/step - accuracy: 0.9670 - loss: 0.1505 - val_accuracy: 0.9968 - val_loss: 0.0161\n",
      "Epoch 18/20\n",
      "\u001b[1m4940/4940\u001b[0m \u001b[32m━━━━━━━━━━━━━━━━━━━━\u001b[0m\u001b[37m\u001b[0m \u001b[1m332s\u001b[0m 67ms/step - accuracy: 0.9695 - loss: 0.1409 - val_accuracy: 0.9964 - val_loss: 0.0206\n",
      "Epoch 19/20\n",
      "\u001b[1m4940/4940\u001b[0m \u001b[32m━━━━━━━━━━━━━━━━━━━━\u001b[0m\u001b[37m\u001b[0m \u001b[1m332s\u001b[0m 67ms/step - accuracy: 0.9702 - loss: 0.1420 - val_accuracy: 0.9965 - val_loss: 0.0194\n",
      "Epoch 19: early stopping\n",
      "Restoring model weights from the end of the best epoch: 16.\n"
     ]
    }
   ],
   "source": [
    "# Initial Training with EarlyStopping\n",
    "history = model.fit(\n",
    "    train_ds,\n",
    "    validation_data=val_ds,\n",
    "    epochs=20,\n",
    "    callbacks=[early_stopping]\n",
    ")"
   ]
  },
  {
   "cell_type": "code",
   "execution_count": 5,
   "id": "ba46405c",
   "metadata": {
    "execution": {
     "iopub.execute_input": "2025-05-18T09:24:38.440796Z",
     "iopub.status.busy": "2025-05-18T09:24:38.440206Z",
     "iopub.status.idle": "2025-05-18T14:47:03.153013Z",
     "shell.execute_reply": "2025-05-18T14:47:03.152291Z"
    },
    "papermill": {
     "duration": 19357.122461,
     "end_time": "2025-05-18T14:47:11.306581",
     "exception": false,
     "start_time": "2025-05-18T09:24:34.184120",
     "status": "completed"
    },
    "tags": []
   },
   "outputs": [
    {
     "name": "stdout",
     "output_type": "stream",
     "text": [
      "Epoch 1/20\n"
     ]
    },
    {
     "name": "stderr",
     "output_type": "stream",
     "text": [
      "E0000 00:00:1747560370.526052      67 gpu_timer.cc:82] Delay kernel timed out: measured time has sub-optimal accuracy. There may be a missing warmup execution, please investigate in Nsight Systems.\n",
      "E0000 00:00:1747560370.670355      67 gpu_timer.cc:82] Delay kernel timed out: measured time has sub-optimal accuracy. There may be a missing warmup execution, please investigate in Nsight Systems.\n",
      "E0000 00:00:1747560371.159440      67 gpu_timer.cc:82] Delay kernel timed out: measured time has sub-optimal accuracy. There may be a missing warmup execution, please investigate in Nsight Systems.\n",
      "E0000 00:00:1747560371.299784      67 gpu_timer.cc:82] Delay kernel timed out: measured time has sub-optimal accuracy. There may be a missing warmup execution, please investigate in Nsight Systems.\n",
      "E0000 00:00:1747560371.598836      67 gpu_timer.cc:82] Delay kernel timed out: measured time has sub-optimal accuracy. There may be a missing warmup execution, please investigate in Nsight Systems.\n",
      "E0000 00:00:1747560371.739667      67 gpu_timer.cc:82] Delay kernel timed out: measured time has sub-optimal accuracy. There may be a missing warmup execution, please investigate in Nsight Systems.\n",
      "E0000 00:00:1747560372.086925      67 gpu_timer.cc:82] Delay kernel timed out: measured time has sub-optimal accuracy. There may be a missing warmup execution, please investigate in Nsight Systems.\n",
      "E0000 00:00:1747560372.246832      67 gpu_timer.cc:82] Delay kernel timed out: measured time has sub-optimal accuracy. There may be a missing warmup execution, please investigate in Nsight Systems.\n"
     ]
    },
    {
     "name": "stdout",
     "output_type": "stream",
     "text": [
      "\u001b[1m4939/4940\u001b[0m \u001b[32m━━━━━━━━━━━━━━━━━━━\u001b[0m\u001b[37m━\u001b[0m \u001b[1m0s\u001b[0m 215ms/step - accuracy: 0.2660 - loss: 12.0821"
     ]
    },
    {
     "name": "stderr",
     "output_type": "stream",
     "text": [
      "E0000 00:00:1747561479.293778      67 gpu_timer.cc:82] Delay kernel timed out: measured time has sub-optimal accuracy. There may be a missing warmup execution, please investigate in Nsight Systems.\n",
      "E0000 00:00:1747561479.435025      67 gpu_timer.cc:82] Delay kernel timed out: measured time has sub-optimal accuracy. There may be a missing warmup execution, please investigate in Nsight Systems.\n",
      "E0000 00:00:1747561479.897235      67 gpu_timer.cc:82] Delay kernel timed out: measured time has sub-optimal accuracy. There may be a missing warmup execution, please investigate in Nsight Systems.\n",
      "E0000 00:00:1747561480.038053      67 gpu_timer.cc:82] Delay kernel timed out: measured time has sub-optimal accuracy. There may be a missing warmup execution, please investigate in Nsight Systems.\n"
     ]
    },
    {
     "name": "stdout",
     "output_type": "stream",
     "text": [
      "\u001b[1m4940/4940\u001b[0m \u001b[32m━━━━━━━━━━━━━━━━━━━━\u001b[0m\u001b[37m\u001b[0m \u001b[1m1309s\u001b[0m 240ms/step - accuracy: 0.2661 - loss: 12.0794 - val_accuracy: 0.9800 - val_loss: 0.0651\n",
      "Epoch 2/20\n",
      "\u001b[1m4940/4940\u001b[0m \u001b[32m━━━━━━━━━━━━━━━━━━━━\u001b[0m\u001b[37m\u001b[0m \u001b[1m1127s\u001b[0m 228ms/step - accuracy: 0.8226 - loss: 0.7533 - val_accuracy: 0.9952 - val_loss: 0.0147\n",
      "Epoch 3/20\n",
      "\u001b[1m4940/4940\u001b[0m \u001b[32m━━━━━━━━━━━━━━━━━━━━\u001b[0m\u001b[37m\u001b[0m \u001b[1m1128s\u001b[0m 228ms/step - accuracy: 0.9173 - loss: 0.3134 - val_accuracy: 0.9969 - val_loss: 0.0088\n",
      "Epoch 4/20\n",
      "\u001b[1m4940/4940\u001b[0m \u001b[32m━━━━━━━━━━━━━━━━━━━━\u001b[0m\u001b[37m\u001b[0m \u001b[1m1127s\u001b[0m 228ms/step - accuracy: 0.9457 - loss: 0.1928 - val_accuracy: 0.9978 - val_loss: 0.0062\n",
      "Epoch 5/20\n",
      "\u001b[1m4940/4940\u001b[0m \u001b[32m━━━━━━━━━━━━━━━━━━━━\u001b[0m\u001b[37m\u001b[0m \u001b[1m1128s\u001b[0m 228ms/step - accuracy: 0.9595 - loss: 0.1416 - val_accuracy: 0.9977 - val_loss: 0.0055\n",
      "Epoch 6/20\n",
      "\u001b[1m4940/4940\u001b[0m \u001b[32m━━━━━━━━━━━━━━━━━━━━\u001b[0m\u001b[37m\u001b[0m \u001b[1m1127s\u001b[0m 228ms/step - accuracy: 0.9661 - loss: 0.1153 - val_accuracy: 0.9980 - val_loss: 0.0046\n",
      "Epoch 7/20\n",
      "\u001b[1m4940/4940\u001b[0m \u001b[32m━━━━━━━━━━━━━━━━━━━━\u001b[0m\u001b[37m\u001b[0m \u001b[1m1127s\u001b[0m 228ms/step - accuracy: 0.9719 - loss: 0.0947 - val_accuracy: 0.9982 - val_loss: 0.0041\n",
      "Epoch 8/20\n",
      "\u001b[1m4940/4940\u001b[0m \u001b[32m━━━━━━━━━━━━━━━━━━━━\u001b[0m\u001b[37m\u001b[0m \u001b[1m1129s\u001b[0m 228ms/step - accuracy: 0.9760 - loss: 0.0805 - val_accuracy: 0.9982 - val_loss: 0.0040\n",
      "Epoch 9/20\n",
      "\u001b[1m4940/4940\u001b[0m \u001b[32m━━━━━━━━━━━━━━━━━━━━\u001b[0m\u001b[37m\u001b[0m \u001b[1m1127s\u001b[0m 228ms/step - accuracy: 0.9786 - loss: 0.0713 - val_accuracy: 0.9983 - val_loss: 0.0042\n",
      "Epoch 10/20\n",
      "\u001b[1m4940/4940\u001b[0m \u001b[32m━━━━━━━━━━━━━━━━━━━━\u001b[0m\u001b[37m\u001b[0m \u001b[1m1125s\u001b[0m 228ms/step - accuracy: 0.9800 - loss: 0.0652 - val_accuracy: 0.9982 - val_loss: 0.0038\n",
      "Epoch 11/20\n",
      "\u001b[1m4940/4940\u001b[0m \u001b[32m━━━━━━━━━━━━━━━━━━━━\u001b[0m\u001b[37m\u001b[0m \u001b[1m1126s\u001b[0m 228ms/step - accuracy: 0.9829 - loss: 0.0553 - val_accuracy: 0.9983 - val_loss: 0.0037\n",
      "Epoch 12/20\n",
      "\u001b[1m4940/4940\u001b[0m \u001b[32m━━━━━━━━━━━━━━━━━━━━\u001b[0m\u001b[37m\u001b[0m \u001b[1m1126s\u001b[0m 228ms/step - accuracy: 0.9843 - loss: 0.0503 - val_accuracy: 0.9984 - val_loss: 0.0035\n",
      "Epoch 13/20\n",
      "\u001b[1m4940/4940\u001b[0m \u001b[32m━━━━━━━━━━━━━━━━━━━━\u001b[0m\u001b[37m\u001b[0m \u001b[1m1125s\u001b[0m 228ms/step - accuracy: 0.9851 - loss: 0.0471 - val_accuracy: 0.9984 - val_loss: 0.0040\n",
      "Epoch 14/20\n",
      "\u001b[1m4940/4940\u001b[0m \u001b[32m━━━━━━━━━━━━━━━━━━━━\u001b[0m\u001b[37m\u001b[0m \u001b[1m1129s\u001b[0m 228ms/step - accuracy: 0.9859 - loss: 0.0455 - val_accuracy: 0.9985 - val_loss: 0.0032\n",
      "Epoch 15/20\n",
      "\u001b[1m4940/4940\u001b[0m \u001b[32m━━━━━━━━━━━━━━━━━━━━\u001b[0m\u001b[37m\u001b[0m \u001b[1m1129s\u001b[0m 228ms/step - accuracy: 0.9872 - loss: 0.0395 - val_accuracy: 0.9986 - val_loss: 0.0033\n",
      "Epoch 16/20\n",
      "\u001b[1m4940/4940\u001b[0m \u001b[32m━━━━━━━━━━━━━━━━━━━━\u001b[0m\u001b[37m\u001b[0m \u001b[1m1129s\u001b[0m 228ms/step - accuracy: 0.9882 - loss: 0.0398 - val_accuracy: 0.9985 - val_loss: 0.0033\n",
      "Epoch 17/20\n",
      "\u001b[1m4940/4940\u001b[0m \u001b[32m━━━━━━━━━━━━━━━━━━━━\u001b[0m\u001b[37m\u001b[0m \u001b[1m1126s\u001b[0m 228ms/step - accuracy: 0.9882 - loss: 0.0363 - val_accuracy: 0.9986 - val_loss: 0.0033\n",
      "Epoch 17: early stopping\n",
      "Restoring model weights from the end of the best epoch: 14.\n"
     ]
    }
   ],
   "source": [
    "# Fine-tune the model\n",
    "base_model.trainable = True\n",
    "model.compile(optimizer=tf.keras.optimizers.Adam(1e-5), loss='categorical_crossentropy', metrics=['accuracy'])\n",
    "\n",
    "# Fine-tune with EarlyStopping\n",
    "history_fine = model.fit(\n",
    "    train_ds,\n",
    "    validation_data=val_ds,\n",
    "    epochs=20,\n",
    "    callbacks=[early_stopping]\n",
    ")"
   ]
  },
  {
   "cell_type": "code",
   "execution_count": 6,
   "id": "05fc6b02",
   "metadata": {
    "execution": {
     "iopub.execute_input": "2025-05-18T14:47:27.421974Z",
     "iopub.status.busy": "2025-05-18T14:47:27.421280Z",
     "iopub.status.idle": "2025-05-18T14:47:28.264086Z",
     "shell.execute_reply": "2025-05-18T14:47:28.263288Z"
    },
    "papermill": {
     "duration": 8.891766,
     "end_time": "2025-05-18T14:47:28.265203",
     "exception": false,
     "start_time": "2025-05-18T14:47:19.373437",
     "status": "completed"
    },
    "tags": []
   },
   "outputs": [
    {
     "name": "stdout",
     "output_type": "stream",
     "text": [
      "✅ Model saved as efficientnetB1_model.h5\n"
     ]
    }
   ],
   "source": [
    "# Save model\n",
    "model.save(\"/kaggle/working/efficientnetB1_model.h5\")\n",
    "print(\"✅ Model saved as efficientnetB1_model.h5\")"
   ]
  },
  {
   "cell_type": "code",
   "execution_count": null,
   "id": "5b8a7190",
   "metadata": {
    "papermill": {
     "duration": 8.188928,
     "end_time": "2025-05-18T14:47:44.252049",
     "exception": false,
     "start_time": "2025-05-18T14:47:36.063121",
     "status": "completed"
    },
    "tags": []
   },
   "outputs": [],
   "source": []
  }
 ],
 "metadata": {
  "kaggle": {
   "accelerator": "nvidiaTeslaT4",
   "dataSources": [
    {
     "datasetId": 7379635,
     "sourceId": 11754944,
     "sourceType": "datasetVersion"
    }
   ],
   "dockerImageVersionId": 31012,
   "isGpuEnabled": true,
   "isInternetEnabled": true,
   "language": "python",
   "sourceType": "notebook"
  },
  "kernelspec": {
   "display_name": "Python 3",
   "language": "python",
   "name": "python3"
  },
  "language_info": {
   "codemirror_mode": {
    "name": "ipython",
    "version": 3
   },
   "file_extension": ".py",
   "mimetype": "text/x-python",
   "name": "python",
   "nbconvert_exporter": "python",
   "pygments_lexer": "ipython3",
   "version": "3.11.11"
  },
  "papermill": {
   "default_parameters": {},
   "duration": 26058.737422,
   "end_time": "2025-05-18T14:47:55.986651",
   "environment_variables": {},
   "exception": null,
   "input_path": "__notebook__.ipynb",
   "output_path": "__notebook__.ipynb",
   "parameters": {},
   "start_time": "2025-05-18T07:33:37.249229",
   "version": "2.6.0"
  }
 },
 "nbformat": 4,
 "nbformat_minor": 5
}
